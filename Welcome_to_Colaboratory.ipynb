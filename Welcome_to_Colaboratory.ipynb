{
  "nbformat": 4,
  "nbformat_minor": 0,
  "metadata": {
    "colab": {
      "name": "Welcome to Colaboratory",
      "provenance": [],
      "collapsed_sections": [],
      "include_colab_link": true
    },
    "kernelspec": {
      "display_name": "Python 3",
      "name": "python3"
    }
  },
  "cells": [
    {
      "cell_type": "markdown",
      "metadata": {
        "id": "view-in-github",
        "colab_type": "text"
      },
      "source": [
        "<a href=\"https://colab.research.google.com/github/faria78/19821508-002--vp-assigment-2/blob/main/Welcome_to_Colaboratory.ipynb\" target=\"_parent\"><img src=\"https://colab.research.google.com/assets/colab-badge.svg\" alt=\"Open In Colab\"/></a>"
      ]
    },
    {
      "cell_type": "code",
      "metadata": {
        "colab": {
          "base_uri": "https://localhost:8080/"
        },
        "id": "x7WlOixmjKSg",
        "outputId": "ef56598c-c66e-4538-927a-81f8d8d5b48c"
      },
      "source": [
        " \n",
        "from math import pi\n",
        "faria=float(input(\"give us radius\"))\n",
        "print(\"area\"+str (faria) +\"is\"+str (pi*faria**2))"
      ],
      "execution_count": null,
      "outputs": [
        {
          "output_type": "stream",
          "text": [
            "give us radius7\n",
            "area7.0is153.93804002589985\n"
          ],
          "name": "stdout"
        }
      ]
    },
    {
      "cell_type": "code",
      "metadata": {
        "colab": {
          "base_uri": "https://localhost:8080/"
        },
        "id": "A-XytWrktvMK",
        "outputId": "94fee767-c705-4092-b1c3-b05779f4f6e5"
      },
      "source": [
        "faria=input(\"enter a number\")\n",
        "list=faria.split(\",\")\n",
        "tuple=tuple(list)\n",
        "print('list',list)\n",
        "print('tuple',tuple)"
      ],
      "execution_count": null,
      "outputs": [
        {
          "output_type": "stream",
          "text": [
            "enter a number1,2,3\n",
            "list ['1', '2', '3']\n",
            "tuple ('1', '2', '3')\n"
          ],
          "name": "stdout"
        }
      ]
    },
    {
      "cell_type": "code",
      "metadata": {
        "id": "gEcsc7bQxquW"
      },
      "source": [
        "def q(f):\n",
        " if len(f)==len(set(f)):\n",
        "  return true\n",
        " else:\n",
        "  return False;\n",
        "print(q([1,2,4]))\n",
        "Print(q([1,2,4,55,66]))"
      ],
      "execution_count": null,
      "outputs": []
    },
    {
      "cell_type": "code",
      "metadata": {
        "id": "hufbFxbCGw6X"
      },
      "source": [
        ""
      ],
      "execution_count": null,
      "outputs": []
    },
    {
      "cell_type": "markdown",
      "metadata": {
        "id": "HFywl4KzGxXB"
      },
      "source": [
        ""
      ]
    },
    {
      "cell_type": "code",
      "metadata": {
        "id": "7glzNsyAGxwq"
      },
      "source": [
        "def remove-num(int-list)\n",
        "#list start with value 0\n",
        "P=6-1\n",
        "m=0\n",
        "length list=(length(int-list)\n",
        "While length-list>0\n",
        "a= (p+m)%length-list\n",
        "Print(int-list.pop(m))\n",
        "length-list==1\n",
        "num=[20,40,60,69,70,78,89]\n",
        "remove-num(num)"
      ],
      "execution_count": null,
      "outputs": []
    }
  ]
}